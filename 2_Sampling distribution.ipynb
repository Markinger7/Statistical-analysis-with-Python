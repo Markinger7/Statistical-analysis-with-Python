{
 "cells": [
  {
   "cell_type": "markdown",
   "metadata": {},
   "source": [
    "## Sampling Distribution\n",
    "`A sampling distribution is a probability distribution of a statistic obtained from a larger number of samples drawn from a specific population. The sampling distribution of a given population is the distribution of frequencies of a range of different outcomes that could possibly occur for a statistic of a population.` - <a href='https://www.investopedia.com/terms/s/sampling-distribution.asp'>Investopedia</a>\n",
    "\n",
    "Relevant notations and definitions related to a Sampling Distribution\n",
    "- $\\mu$: mean of the population\n",
    "- M: mean of the sample\n",
    "- $\\sigma$: standard deviation (measure for the spread of a distribution around the mean)\n",
    "- sd = standard error (standard deviation of the sampling distribution) \n",
    "- n = number to create the sampling distribution (sample size), which is k in random.choices()\n",
    "- z-score: numerical measurement (in standard deviations) of a value's relationship to the mean of a group of values\n",
    "\n",
    "<a href='https://s3.amazonaws.com/udacity-hosted-downloads/ZTable.jpg'>Link to z-table</a>"
   ]
  },
  {
   "cell_type": "code",
   "execution_count": 40,
   "metadata": {},
   "outputs": [],
   "source": [
    "# relevant imports\n",
    "import numpy as np\n",
    "import pandas as pd\n",
    "import math # for squre root calculations\n",
    "import random\n",
    "import matplotlib.pyplot as plt\n",
    "import scipy.stats as stats"
   ]
  },
  {
   "cell_type": "code",
   "execution_count": 2,
   "metadata": {},
   "outputs": [],
   "source": [
    "# read data \n",
    "df = pd.read_excel('data/Klout scores (Lesson 7).xlsx', header=None)\n",
    "# transfrom to numpy array\n",
    "arr = df.to_numpy()\n",
    "# reshape array\n",
    "arr = np.reshape(arr, (arr.shape[0]))"
   ]
  },
  {
   "cell_type": "code",
   "execution_count": 3,
   "metadata": {},
   "outputs": [
    {
     "data": {
      "image/png": "[encoded data removed]",
      "text/plain": [
       "<Figure size 432x288 with 1 Axes>"
      ]
     },
     "metadata": {
      "needs_background": "light"
     },
     "output_type": "display_data"
    }
   ],
   "source": [
    "plt.hist(arr);"
   ]
  },
  {
   "cell_type": "code",
   "execution_count": 4,
   "metadata": {},
   "outputs": [
    {
     "name": "stdout",
     "output_type": "stream",
     "text": [
      "Mean of the population: 37.72\n",
      "Standard deviation of the population: 16.04\n"
     ]
    }
   ],
   "source": [
    "# calculate mean and std of population\n",
    "mean_pop = round(arr.mean(), 2)\n",
    "std_pop = round(arr.std(), 2)\n",
    "\n",
    "print(f'Mean of the population: {mean_pop}')\n",
    "print(f'Standard deviation of the population: {std_pop}')\n"
   ]
  },
  {
   "cell_type": "markdown",
   "metadata": {},
   "source": [
    "> bimodal distribution with a mean $\\mu$ of 37.72 and a standard deviation $\\sigma$ of 16.04"
   ]
  },
  {
   "cell_type": "markdown",
   "metadata": {},
   "source": [
    "We can sample the data to get an estimate of the mean through the sampled data"
   ]
  },
  {
   "cell_type": "code",
   "execution_count": 14,
   "metadata": {},
   "outputs": [],
   "source": [
    "sampled_means = []\n",
    "n = 35\n",
    "draws = 100\n",
    "\n",
    "for i in range(1, draws, 1):\n",
    "    sm = random.choices(arr, k=n)\n",
    "    sm = np.mean(sm)\n",
    "    sampled_means.append(sm)"
   ]
  },
  {
   "cell_type": "code",
   "execution_count": 15,
   "metadata": {},
   "outputs": [
    {
     "name": "stdout",
     "output_type": "stream",
     "text": [
      "37.6\n"
     ]
    }
   ],
   "source": [
    "sampled_mean = round(np.mean(sampled_means), 2)\n",
    "print(sampled_mean)"
   ]
  },
  {
   "cell_type": "markdown",
   "metadata": {},
   "source": [
    "> over 100 draws we calculated the mean for each draw and added it to a list were we finally calculate the mean of the sampled distribution which is with 37.43 relatively close to the real population mean."
   ]
  },
  {
   "cell_type": "code",
   "execution_count": 16,
   "metadata": {},
   "outputs": [
    {
     "data": {
      "image/png": "[encoded data removed]",
      "text/plain": [
       "<Figure size 432x288 with 1 Axes>"
      ]
     },
     "metadata": {
      "needs_background": "light"
     },
     "output_type": "display_data"
    }
   ],
   "source": [
    "# plot the sampled means\n",
    "plt.hist(sampled_means);"
   ]
  },
  {
   "cell_type": "code",
   "execution_count": 8,
   "metadata": {},
   "outputs": [],
   "source": [
    "# check what happens if we increase the draws from the population to 1000\n",
    "sampled_means = []\n",
    "n = 35\n",
    "draws = 1000\n",
    "\n",
    "for i in range(1, draws, 1):\n",
    "    sm = random.choices(arr, k=n)\n",
    "    sm = np.mean(sm)\n",
    "    sampled_means.append(sm)"
   ]
  },
  {
   "cell_type": "code",
   "execution_count": 25,
   "metadata": {},
   "outputs": [
    {
     "name": "stdout",
     "output_type": "stream",
     "text": [
      "estimated mean: 37.6\n",
      "estimated std: 2.38\n"
     ]
    }
   ],
   "source": [
    "sampled_mean = round(np.mean(sampled_means), 2)\n",
    "sampled_std = round(np.std(sampled_means), 2)\n",
    "print(f'estimated mean: {sampled_mean}')\n",
    "print(f'estimated std: {sampled_std}')"
   ]
  },
  {
   "cell_type": "code",
   "execution_count": null,
   "metadata": {},
   "outputs": [],
   "source": []
  },
  {
   "cell_type": "code",
   "execution_count": 10,
   "metadata": {},
   "outputs": [
    {
     "data": {
      "image/png": "[encoded data removed]",
      "text/plain": [
       "<Figure size 432x288 with 1 Axes>"
      ]
     },
     "metadata": {
      "needs_background": "light"
     },
     "output_type": "display_data"
    }
   ],
   "source": [
    "# plot the sampled means\n",
    "plt.hist(sampled_means);"
   ]
  },
  {
   "cell_type": "markdown",
   "metadata": {},
   "source": [
    "> the increase in draws has resulted in a better prediction of the mean through the sample. Lets try to also increase the size of the sample n."
   ]
  },
  {
   "cell_type": "code",
   "execution_count": 11,
   "metadata": {},
   "outputs": [],
   "source": [
    "sampled_means = []\n",
    "n = 100\n",
    "draws = 1000\n",
    "\n",
    "for i in range(1, draws, 1):\n",
    "    sm = random.choices(arr, k=n)\n",
    "    sm = np.mean(sm)\n",
    "    sampled_means.append(sm)"
   ]
  },
  {
   "cell_type": "code",
   "execution_count": 12,
   "metadata": {},
   "outputs": [
    {
     "name": "stdout",
     "output_type": "stream",
     "text": [
      "37.81\n"
     ]
    }
   ],
   "source": [
    "sampled_mean = round(np.mean(sampled_means), 2)\n",
    "print(sampled_mean)"
   ]
  },
  {
   "cell_type": "code",
   "execution_count": 13,
   "metadata": {},
   "outputs": [
    {
     "data": {
      "image/png": "[encoded data removed]",
      "text/plain": [
       "<Figure size 432x288 with 1 Axes>"
      ]
     },
     "metadata": {
      "needs_background": "light"
     },
     "output_type": "display_data"
    }
   ],
   "source": [
    "# plot the sampled means\n",
    "plt.hist(sampled_means);"
   ]
  },
  {
   "cell_type": "markdown",
   "metadata": {},
   "source": [
    "> as expected the estimation of the mean for the population increased. So you can influence the accuracy of the sampled mean to the population mean by tuning these parameters."
   ]
  },
  {
   "cell_type": "markdown",
   "metadata": {},
   "source": [
    "If we would sample the population a lot we would get the exact same mean. So in further calculation we can take the real mean of the population."
   ]
  },
  {
   "cell_type": "markdown",
   "metadata": {},
   "source": [
    "### Calculate the z-score for a value in the sampling distribution\n",
    "- z-score: $(x-\\mu)\\div\\sigma$\n",
    "\n",
    "we can't use this exact formula since we want to get the z score related to the sampling distribution. Therefore we need the standard error, which is the standard deviation in the sampling distribution.\n",
    "\n",
    "- standard error: $\\sigma\\div\\sqrt{n}$"
   ]
  },
  {
   "cell_type": "code",
   "execution_count": 43,
   "metadata": {},
   "outputs": [
    {
     "data": {
      "text/plain": [
       "2.711254849169081"
      ]
     },
     "execution_count": 43,
     "metadata": {},
     "output_type": "execute_result"
    }
   ],
   "source": [
    "# calculate standard error\n",
    "standard_error_35 = std_pop / math.sqrt(35)\n",
    "standard_error_35"
   ]
  },
  {
   "cell_type": "code",
   "execution_count": 45,
   "metadata": {},
   "outputs": [
    {
     "data": {
      "text/plain": [
       "0.840939021537851"
      ]
     },
     "execution_count": 45,
     "metadata": {},
     "output_type": "execute_result"
    }
   ],
   "source": [
    "z = (40 - mean_pop) / standard_error_35\n",
    "z"
   ]
  },
  {
   "cell_type": "markdown",
   "metadata": {},
   "source": [
    "> 40 is 0.84 units of standard deviations 'away' from the mean"
   ]
  },
  {
   "cell_type": "markdown",
   "metadata": {},
   "source": [
    "### Calculate the probability that an individual as a score of 40 and above\n",
    "- since we know the z-score, we can use the z-table to look up the probability"
   ]
  },
  {
   "cell_type": "code",
   "execution_count": 34,
   "metadata": {},
   "outputs": [
    {
     "name": "stdout",
     "output_type": "stream",
     "text": [
      "probability that an individual has a sore of 40 and more: 0.2005\n"
     ]
    }
   ],
   "source": [
    "z_prob = 0.7995\n",
    "# substract from 1 since we want the porbability to the right of the score and th etable showed probs to the left\n",
    "prob = 1- z_prob\n",
    "print(f'probability that an individual has a sore of 40 and more: {prob}')"
   ]
  },
  {
   "cell_type": "markdown",
   "metadata": {},
   "source": [
    "> so the chance is 20 % that an individual has a score of 40 or higher in the sampling distribution"
   ]
  },
  {
   "cell_type": "markdown",
   "metadata": {},
   "source": [
    "### Check the same in a sampling dist with a higher size\n",
    "\n",
    "If we would increase the sample size we would effectively decrease the range of the sampling distribution and therefor reduce the probability that an individual as a score of 40 or higher in that distribution."
   ]
  },
  {
   "cell_type": "code",
   "execution_count": 47,
   "metadata": {},
   "outputs": [
    {
     "data": {
      "text/plain": [
       "1.014458673382016"
      ]
     },
     "execution_count": 47,
     "metadata": {},
     "output_type": "execute_result"
    }
   ],
   "source": [
    "standard_error_250 = std_pop / math.sqrt(250)\n",
    "standard_error_250"
   ]
  },
  {
   "cell_type": "code",
   "execution_count": 48,
   "metadata": {},
   "outputs": [
    {
     "data": {
      "text/plain": [
       "2.247504072688251"
      ]
     },
     "execution_count": 48,
     "metadata": {},
     "output_type": "execute_result"
    }
   ],
   "source": [
    "z = (40 - mean_pop) / standard_error_250\n",
    "z"
   ]
  },
  {
   "cell_type": "code",
   "execution_count": 39,
   "metadata": {},
   "outputs": [
    {
     "name": "stdout",
     "output_type": "stream",
     "text": [
      "probability that an individual has a sore of 40 and more: 0.0125\n"
     ]
    }
   ],
   "source": [
    "z_prob = 0.9875\n",
    "prob = 1 - 0.9875\n",
    "print(f'probability that an individual has a sore of 40 and more: {round(prob, 4)}')"
   ]
  },
  {
   "cell_type": "markdown",
   "metadata": {},
   "source": [
    "> as expected the probability reduced from 20% to 1%"
   ]
  },
  {
   "cell_type": "markdown",
   "metadata": {},
   "source": [
    "### Plot the different sample distributions"
   ]
  },
  {
   "cell_type": "code",
   "execution_count": 60,
   "metadata": {},
   "outputs": [
    {
     "data": {
      "image/png": "[encoded data removed]",
      "text/plain": [
       "<Figure size 576x288 with 2 Axes>"
      ]
     },
     "metadata": {
      "needs_background": "light"
     },
     "output_type": "display_data"
    }
   ],
   "source": [
    "mu = mean_pop\n",
    "sigma1 = standard_error_35\n",
    "sigma2 = standard_error_250\n",
    "x1 = np.linspace(mu - 3*sigma1, mu + 3*sigma1, 100)\n",
    "x2 = np.linspace(mu - 3*sigma2, mu + 3*sigma2, 100)\n",
    "\n",
    "fig, axes = plt.subplots(nrows=1, ncols=2, figsize=(8, 4))\n",
    "\n",
    "axes[0].set_title('sample size: 35')\n",
    "axes[0].plot(x1, stats.norm.pdf(x1, mu, sigma1))\n",
    "axes[0].axvline(x=40, c='r')\n",
    "axes[1].set_title('sample size: 250')\n",
    "axes[1].plot(x2, stats.norm.pdf(x2, mu, sigma2))\n",
    "axes[1].axvline(x=40, c='r')\n",
    "fig.tight_layout()"
   ]
  },
  {
   "cell_type": "markdown",
   "metadata": {},
   "source": [
    "> you can clearly see the difference between the two sampling distributions. The one on the left with a sampling size of 35 has a bigger range than the one on the right with a sampling size of 250. `As the sample sizes increase, the variability of each sampling distribution decreases so that they become increasingly more leptokurtic` - <a href='http://www.psychology.emory.edu/clinical/bliwise/Tutorials/CLT/CLT/fsummary.htm'>Link</a>"
   ]
  },
  {
   "cell_type": "markdown",
   "metadata": {},
   "source": [
    "### Confidence Intervals\n",
    "to calculate CIs we need to the so called critical values for the respected size of the CI\n",
    "- 95% CI: +/- 1.96\n",
    "- 98% CI: +/- 2.33\n",
    "\n",
    "formula:\n",
    "- lower = x - (critical value * standard error)\n",
    "- upper = x + (critical value * standard error)    "
   ]
  },
  {
   "cell_type": "code",
   "execution_count": 64,
   "metadata": {},
   "outputs": [
    {
     "name": "stdout",
     "output_type": "stream",
     "text": [
      "32.4059404956286\n",
      "43.0340595043714\n"
     ]
    }
   ],
   "source": [
    "lower_35 = mean_pop - (1.96 * standard_error_35)\n",
    "upper_35 = mean_pop + (1.96 * standard_error_35)\n",
    "\n",
    "print(lower_35)\n",
    "print(upper_35)"
   ]
  },
  {
   "cell_type": "code",
   "execution_count": 65,
   "metadata": {},
   "outputs": [
    {
     "name": "stdout",
     "output_type": "stream",
     "text": [
      "35.73166100017125\n",
      "39.70833899982875\n"
     ]
    }
   ],
   "source": [
    "lower_250 = mean_pop - (1.96 * standard_error_250)\n",
    "upper_250 = mean_pop + (1.96 * standard_error_250)\n",
    "\n",
    "print(lower)\n",
    "print(upper)"
   ]
  },
  {
   "cell_type": "code",
   "execution_count": 66,
   "metadata": {},
   "outputs": [
    {
     "data": {
      "image/png": "[encoded data removed]",
      "text/plain": [
       "<Figure size 576x288 with 2 Axes>"
      ]
     },
     "metadata": {
      "needs_background": "light"
     },
     "output_type": "display_data"
    }
   ],
   "source": [
    "mu = mean_pop\n",
    "sigma1 = standard_error_35\n",
    "sigma2 = standard_error_250\n",
    "x1 = np.linspace(mu - 3*sigma1, mu + 3*sigma1, 100)\n",
    "x2 = np.linspace(mu - 3*sigma2, mu + 3*sigma2, 100)\n",
    "\n",
    "fig, axes = plt.subplots(nrows=1, ncols=2, figsize=(8, 4))\n",
    "\n",
    "axes[0].set_title('sample size: 35')\n",
    "axes[0].plot(x1, stats.norm.pdf(x1, mu, sigma1))\n",
    "axes[0].axvline(x=lower_35, c='r')\n",
    "axes[0].axvline(x=upper_35, c='r')\n",
    "axes[1].set_title('sample size: 250')\n",
    "axes[1].plot(x2, stats.norm.pdf(x2, mu, sigma2))\n",
    "axes[1].axvline(x=lower_250, c='r')\n",
    "axes[1].axvline(x=upper_250, c='r')\n",
    "fig.tight_layout()"
   ]
  },
  {
   "cell_type": "markdown",
   "metadata": {},
   "source": [
    "> the range of the 95% CI for the sample size of 35 is broader than for the sample size of 250"
   ]
  },
  {
   "cell_type": "markdown",
   "metadata": {},
   "source": [
    "## Resources\n",
    "- Udacity statistics intro\n",
    "- https://stackoverflow.com/questions/10138085/python-plot-normal-distribution\n",
    "- https://stackoverflow.com/questions/42818361/how-to-make-two-plots-side-by-side-using-python"
   ]
  },
  {
   "cell_type": "code",
   "execution_count": null,
   "metadata": {},
   "outputs": [],
   "source": []
  }
 ],
 "metadata": {
  "kernelspec": {
   "display_name": "Python 3",
   "language": "python",
   "name": "python3"
  },
  "language_info": {
   "codemirror_mode": {
    "name": "ipython",
    "version": 3
   },
   "file_extension": ".py",
   "mimetype": "text/x-python",
   "name": "python",
   "nbconvert_exporter": "python",
   "pygments_lexer": "ipython3",
   "version": "3.7.6"
  }
 },
 "nbformat": 4,
 "nbformat_minor": 4
}
